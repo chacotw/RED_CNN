{
 "cells": [
  {
   "cell_type": "code",
   "execution_count": null,
   "metadata": {},
   "outputs": [],
   "source": [
    "# %load C:\\Users\\chacolo\\Desktop\\DIP project\\RED_CNN-master\\RED_CNN-master\\networks.py\n",
    "import os\n",
    "import numpy as np\n",
    "import torch.nn as nn\n",
    "\n",
    "class RED_CNN(nn.Module):\n",
    "    def __init__(self, out_ch=96):\n",
    "        super(RED_CNN, self).__init__()\n",
    "        self.conv_first = nn.Conv2d(1, out_ch, kernel_size=5, stride=1, padding=0)\n",
    "        self.conv = nn.Conv2d(out_ch, out_ch, kernel_size=5, stride=1, padding=0)\n",
    "        self.conv_t = nn.ConvTranspose2d(out_ch, out_ch, kernel_size=5, stride=1, padding=0)\n",
    "        self.conv_t_last = nn.ConvTranspose2d(out_ch, 1, kernel_size=5, stride=1, padding=0)\n",
    "        self.relu = nn.ReLU()\n",
    "\n",
    "    def forward(self, x):\n",
    "        # encoder\n",
    "        residual_1 = x.clone()\n",
    "        out = self.relu(self.conv_first(x)) # 1\n",
    "        out = self.relu(self.conv(out))     # 2\n",
    "        residual_2 = out.clone()\n",
    "        out = self.relu(self.conv(out))     # 3\n",
    "        out = self.relu(self.conv(out))     # 4\n",
    "        residual_3 = out.clone()\n",
    "        out = self.relu(self.conv(out))     # 5\n",
    "\n",
    "        # decoder\n",
    "        out = self.conv_t(out)              # 5\n",
    "        out += residual_3\n",
    "        out = self.conv_t(self.relu(out))   # 4\n",
    "        out = self.conv_t(self.relu(out))   # 3\n",
    "        out += residual_2\n",
    "        out = self.conv_t(self.relu(out))   # 2\n",
    "        out = self.conv_t_last(self.relu(out))  # 1\n",
    "        out += residual_1\n",
    "        out = self.relu(out)\n",
    "        return out\n"
   ]
  }
 ],
 "metadata": {
  "kernelspec": {
   "display_name": "Python 3",
   "language": "python",
   "name": "python3"
  },
  "language_info": {
   "codemirror_mode": {
    "name": "ipython",
    "version": 3
   },
   "file_extension": ".py",
   "mimetype": "text/x-python",
   "name": "python",
   "nbconvert_exporter": "python",
   "pygments_lexer": "ipython3",
   "version": "3.7.4"
  }
 },
 "nbformat": 4,
 "nbformat_minor": 2
}
